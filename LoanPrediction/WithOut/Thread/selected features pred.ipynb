{
 "cells": [
  {
   "cell_type": "code",
   "execution_count": 18,
   "metadata": {},
   "outputs": [],
   "source": [
    "#using the trained model\n",
    "from sklearn.externals import joblib\n",
    "import pandas as pd\n",
    "svm_cls=joblib.load('svm_cls_model.joblib')\n",
    "dt=joblib.load('dt_model.joblib')\n",
    "mlp=joblib.load('mlp_model.joblib')\n",
    "ada=joblib.load('ada_model.joblib')\n",
    "knn=joblib.load('knn_model.joblib')\n",
    "lr=joblib.load('lr_model.joblib')\n",
    "rf=joblib.load('rf_model.joblib')"
   ]
  },
  {
   "cell_type": "code",
   "execution_count": 19,
   "metadata": {},
   "outputs": [],
   "source": [
    "import statistics as stat\n",
    "\n",
    "import pandas as pd\n",
    "\n",
    "df=pd.DataFrame(columns=['Loan_ID','Gender','Married','Dependents','Education','Self_Employed','ApplicantIncome',\n",
    "                         'CoapplicantIncome','LoanAmount','Loan_Amount_Term','Credit_History','Property_Area',\n",
    "                        'Loan_Status'])\n"
   ]
  },
  {
   "cell_type": "code",
   "execution_count": 20,
   "metadata": {},
   "outputs": [],
   "source": [
    "dataset=pd.read_csv('loan-prediction1.csv')\n",
    "\n",
    "for x in dataset.columns:\n",
    "    df[x]=df[x].astype(dataset[x].dtypes)"
   ]
  },
  {
   "cell_type": "code",
   "execution_count": 21,
   "metadata": {},
   "outputs": [],
   "source": [
    "X = pd.read_csv('featured_X_dataframe.csv')\n",
    "y = dataset.iloc[:,-1]"
   ]
  },
  {
   "cell_type": "code",
   "execution_count": 22,
   "metadata": {},
   "outputs": [],
   "source": [
    "def max_count(f):\n",
    "    a,b,c=0,0,0\n",
    "    a=f.count(1)\n",
    "    b=f.count(0)\n",
    "    if a>b:\n",
    "        c=1\n",
    "    else:\n",
    "        c=0\n",
    "    return c\n",
    "def probab_count(f):\n",
    "    a,b,c,d=0,0,0,0\n",
    "    a=f.count(1)\n",
    "    b=f.count(0)\n",
    "    c=((a/7)*100)\n",
    "    d=((b/7)*100)\n",
    "    print(\"%f percent probability of getting loan\"%(c))\n",
    "    print(\"%f percent probability of not getting loan\"%(d))\n",
    "    \n",
    "cc=0\n",
    "def pred_preparation(V,a):\n",
    "    global cc\n",
    "    count=0\n",
    "    arr1=[]\n",
    "    f=[]\n",
    "    arr=a\n",
    "    score=[]\n",
    "    model=[]\n",
    "    df.loc[cc]=['predicted_'+str(cc)]+V+[0]\n",
    "    for i in X.columns:\n",
    "        p=[]\n",
    "        for j in range(X.shape[0]):\n",
    "            p.append(X[i][j])\n",
    "        p.append(arr[count])\n",
    "        s=stat.stdev(p)\n",
    "        u=stat.mean(p)\n",
    "        if s!=0:\n",
    "            arr[count]=((arr[count]-u)/s)\n",
    "        else:\n",
    "            arr[count]=(arr[count]-u)\n",
    "        count+=1\n",
    "    \n",
    "    model=[svm_cls,dt,ada,rf,lr,knn,mlp]\n",
    "    for cou in model:\n",
    "        f.extend(cou.predict([arr])) \n",
    "    probab_count(f)\n",
    "    print(f)\n",
    "    f_pred=max_count(f)\n",
    "    df['Loan_Status'][cc]=f_pred\n",
    "    cc+=1\n",
    "    print(f_pred)\n",
    "def arr_prep(V):\n",
    "    a=[]\n",
    "    for i in range(len(V)):\n",
    "        if i==0:\n",
    "            pass\n",
    "        elif i==1:\n",
    "            pass\n",
    "        elif i==3:\n",
    "            pass\n",
    "        else:\n",
    "            a.append(V[i])\n",
    "    pred_preparation(V,a)    "
   ]
  },
  {
   "cell_type": "code",
   "execution_count": 23,
   "metadata": {},
   "outputs": [
    {
     "name": "stdout",
     "output_type": "stream",
     "text": [
      "100.000000 percent probability of getting loan\n",
      "0.000000 percent probability of not getting loan\n",
      "[1, 1, 1, 1, 1, 1, 1]\n",
      "1\n",
      "14.285714 percent probability of getting loan\n",
      "85.714286 percent probability of not getting loan"
     ]
    },
    {
     "name": "stderr",
     "output_type": "stream",
     "text": [
      "C:\\Users\\Pritam\\Anaconda3\\lib\\site-packages\\ipykernel_launcher.py:48: SettingWithCopyWarning: \n",
      "A value is trying to be set on a copy of a slice from a DataFrame\n",
      "\n",
      "See the caveats in the documentation: http://pandas.pydata.org/pandas-docs/stable/indexing.html#indexing-view-versus-copy\n"
     ]
    },
    {
     "name": "stdout",
     "output_type": "stream",
     "text": [
      "\n",
      "[0, 0, 0, 0, 1, 0, 0]\n",
      "0\n",
      "100.000000 percent probability of getting loan\n",
      "0.000000 percent probability of not getting loan\n",
      "[1, 1, 1, 1, 1, 1, 1]\n"
     ]
    },
    {
     "name": "stderr",
     "output_type": "stream",
     "text": [
      "C:\\Users\\Pritam\\Anaconda3\\lib\\site-packages\\ipykernel_launcher.py:48: SettingWithCopyWarning: \n",
      "A value is trying to be set on a copy of a slice from a DataFrame\n",
      "\n",
      "See the caveats in the documentation: http://pandas.pydata.org/pandas-docs/stable/indexing.html#indexing-view-versus-copy\n"
     ]
    },
    {
     "name": "stdout",
     "output_type": "stream",
     "text": [
      "1\n",
      "14.285714 percent probability of getting loan\n",
      "85.714286 percent probability of not getting loan\n",
      "[0, 0, 0, 0, 1, 0, 0]\n"
     ]
    },
    {
     "name": "stderr",
     "output_type": "stream",
     "text": [
      "C:\\Users\\Pritam\\Anaconda3\\lib\\site-packages\\ipykernel_launcher.py:48: SettingWithCopyWarning: \n",
      "A value is trying to be set on a copy of a slice from a DataFrame\n",
      "\n",
      "See the caveats in the documentation: http://pandas.pydata.org/pandas-docs/stable/indexing.html#indexing-view-versus-copy\n",
      "C:\\Users\\Pritam\\Anaconda3\\lib\\site-packages\\ipykernel_launcher.py:48: SettingWithCopyWarning: \n",
      "A value is trying to be set on a copy of a slice from a DataFrame\n",
      "\n",
      "See the caveats in the documentation: http://pandas.pydata.org/pandas-docs/stable/indexing.html#indexing-view-versus-copy\n"
     ]
    },
    {
     "name": "stdout",
     "output_type": "stream",
     "text": [
      "0\n",
      "100.000000 percent probability of getting loan\n",
      "0.000000 percent probability of not getting loan\n",
      "[1, 1, 1, 1, 1, 1, 1]\n"
     ]
    },
    {
     "name": "stderr",
     "output_type": "stream",
     "text": [
      "C:\\Users\\Pritam\\Anaconda3\\lib\\site-packages\\ipykernel_launcher.py:48: SettingWithCopyWarning: \n",
      "A value is trying to be set on a copy of a slice from a DataFrame\n",
      "\n",
      "See the caveats in the documentation: http://pandas.pydata.org/pandas-docs/stable/indexing.html#indexing-view-versus-copy\n"
     ]
    },
    {
     "name": "stdout",
     "output_type": "stream",
     "text": [
      "1\n",
      "100.000000 percent probability of getting loan\n",
      "0.000000 percent probability of not getting loan\n",
      "[1, 1, 1, 1, 1, 1, 1]\n",
      "1\n"
     ]
    },
    {
     "name": "stderr",
     "output_type": "stream",
     "text": [
      "C:\\Users\\Pritam\\Anaconda3\\lib\\site-packages\\ipykernel_launcher.py:48: SettingWithCopyWarning: \n",
      "A value is trying to be set on a copy of a slice from a DataFrame\n",
      "\n",
      "See the caveats in the documentation: http://pandas.pydata.org/pandas-docs/stable/indexing.html#indexing-view-versus-copy\n"
     ]
    }
   ],
   "source": [
    "arr_prep([1,0,0,1,0,5849,0.0,146.412162,360.0,1.0,2])#y\n",
    "arr_prep([1,1,1,1,0,12841,10968.0,349.000000,360.0,1.0,1])#n\n",
    "arr_prep([1,0,0,1,0,5849,0.0,146.412162,360.0,1.0,2])#y\n",
    "arr_prep([1,1,1,1,0,12841,10968.0,349.000000,360.0,1.0,1])#n\n",
    "arr_prep([1,1,0,1,0,1809,1868.0,90.000000,360.0,1.0,2])#y\n",
    "arr_prep([1,1,0,1,0,2083,3150.0,128.000000,360.0,1.0,1])#y\n",
    "\n",
    "\n",
    "df.to_csv('predicted_loan_status.csv')\n",
    "\n",
    "#map function from interface\n",
    "def set_list(Gender,Married,Dependents,Education,Self_Employed,ApplicantIncome,\n",
    "                         CoapplicantIncome,LoanAmount,Loan_Amount_Term,Credit_History,Property_Area):\n",
    "    x=[]\n",
    "    x.append(Gender)\n",
    "    x.append(Married)\n",
    "    x.append(Dependents)\n",
    "    x.append(Education)\n",
    "    x.append(Self_Employed)\n",
    "    x.append(ApplicantIncome)\n",
    "    x.append(CoapplicantIncome)\n",
    "    x.append(LoanAmount)\n",
    "    x.append(Loan_Amount_Term)\n",
    "    x.append(Credit_History)\n",
    "    x.append(Property_Area)\n",
    "    pred_preparation(x)\n",
    "    "
   ]
  },
  {
   "cell_type": "code",
   "execution_count": null,
   "metadata": {},
   "outputs": [],
   "source": []
  }
 ],
 "metadata": {
  "kernelspec": {
   "display_name": "Python 3",
   "language": "python",
   "name": "python3"
  },
  "language_info": {
   "codemirror_mode": {
    "name": "ipython",
    "version": 3
   },
   "file_extension": ".py",
   "mimetype": "text/x-python",
   "name": "python",
   "nbconvert_exporter": "python",
   "pygments_lexer": "ipython3",
   "version": "3.7.3"
  }
 },
 "nbformat": 4,
 "nbformat_minor": 2
}
