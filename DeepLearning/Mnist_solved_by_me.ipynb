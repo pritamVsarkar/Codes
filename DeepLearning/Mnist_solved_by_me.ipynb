{
 "cells": [
  {
   "cell_type": "markdown",
   "metadata": {},
   "source": [
    "# Inport the relevent data"
   ]
  },
  {
   "cell_type": "code",
   "execution_count": 1,
   "metadata": {},
   "outputs": [
    {
     "name": "stderr",
     "output_type": "stream",
     "text": [
      "C:\\Users\\Pritam\\Anaconda3\\lib\\importlib\\_bootstrap.py:219: RuntimeWarning: numpy.ufunc size changed, may indicate binary incompatibility. Expected 192 from C header, got 216 from PyObject\n",
      "  return f(*args, **kwds)\n",
      "C:\\Users\\Pritam\\Anaconda3\\lib\\importlib\\_bootstrap.py:219: RuntimeWarning: numpy.ufunc size changed, may indicate binary incompatibility. Expected 192 from C header, got 216 from PyObject\n",
      "  return f(*args, **kwds)\n",
      "C:\\Users\\Pritam\\Anaconda3\\lib\\importlib\\_bootstrap.py:219: RuntimeWarning: numpy.ufunc size changed, may indicate binary incompatibility. Expected 192 from C header, got 216 from PyObject\n",
      "  return f(*args, **kwds)\n"
     ]
    },
    {
     "name": "stdout",
     "output_type": "stream",
     "text": [
      "WARNING:tensorflow:From <ipython-input-1-76b7f1319b9c>:5: read_data_sets (from tensorflow.contrib.learn.python.learn.datasets.mnist) is deprecated and will be removed in a future version.\n",
      "Instructions for updating:\n",
      "Please use alternatives such as official/mnist/dataset.py from tensorflow/models.\n",
      "WARNING:tensorflow:From C:\\Users\\Pritam\\Anaconda3\\lib\\site-packages\\tensorflow\\contrib\\learn\\python\\learn\\datasets\\mnist.py:260: maybe_download (from tensorflow.contrib.learn.python.learn.datasets.base) is deprecated and will be removed in a future version.\n",
      "Instructions for updating:\n",
      "Please write your own downloading logic.\n",
      "WARNING:tensorflow:From C:\\Users\\Pritam\\Anaconda3\\lib\\site-packages\\tensorflow\\contrib\\learn\\python\\learn\\datasets\\mnist.py:262: extract_images (from tensorflow.contrib.learn.python.learn.datasets.mnist) is deprecated and will be removed in a future version.\n",
      "Instructions for updating:\n",
      "Please use tf.data to implement this functionality.\n",
      "Extracting MNIST_data/train-images-idx3-ubyte.gz\n",
      "WARNING:tensorflow:From C:\\Users\\Pritam\\Anaconda3\\lib\\site-packages\\tensorflow\\contrib\\learn\\python\\learn\\datasets\\mnist.py:267: extract_labels (from tensorflow.contrib.learn.python.learn.datasets.mnist) is deprecated and will be removed in a future version.\n",
      "Instructions for updating:\n",
      "Please use tf.data to implement this functionality.\n",
      "Extracting MNIST_data/train-labels-idx1-ubyte.gz\n",
      "WARNING:tensorflow:From C:\\Users\\Pritam\\Anaconda3\\lib\\site-packages\\tensorflow\\contrib\\learn\\python\\learn\\datasets\\mnist.py:110: dense_to_one_hot (from tensorflow.contrib.learn.python.learn.datasets.mnist) is deprecated and will be removed in a future version.\n",
      "Instructions for updating:\n",
      "Please use tf.one_hot on tensors.\n",
      "Extracting MNIST_data/t10k-images-idx3-ubyte.gz\n",
      "Extracting MNIST_data/t10k-labels-idx1-ubyte.gz\n",
      "WARNING:tensorflow:From C:\\Users\\Pritam\\Anaconda3\\lib\\site-packages\\tensorflow\\contrib\\learn\\python\\learn\\datasets\\mnist.py:290: DataSet.__init__ (from tensorflow.contrib.learn.python.learn.datasets.mnist) is deprecated and will be removed in a future version.\n",
      "Instructions for updating:\n",
      "Please use alternatives such as official/mnist/dataset.py from tensorflow/models.\n"
     ]
    }
   ],
   "source": [
    "import numpy as np\n",
    "import tensorflow as tf\n",
    "from tensorflow.examples.tutorials.mnist import input_data\n",
    "\n",
    "mnist=input_data.read_data_sets('MNIST_data/',one_hot=True) #one hot encoding true"
   ]
  },
  {
   "cell_type": "markdown",
   "metadata": {},
   "source": [
    "# Outline our model"
   ]
  },
  {
   "cell_type": "code",
   "execution_count": 16,
   "metadata": {},
   "outputs": [
    {
     "name": "stdout",
     "output_type": "stream",
     "text": [
      "Epoch 1. Mean loss: 0.330. Validation loss: 0.162. Validation accuracy: 95.36%\n",
      "Epoch 2. Mean loss: 0.134. Validation loss: 0.111. Validation accuracy: 96.62%\n",
      "Epoch 3. Mean loss: 0.094. Validation loss: 0.100. Validation accuracy: 96.66%\n",
      "Epoch 4. Mean loss: 0.070. Validation loss: 0.097. Validation accuracy: 97.08%\n",
      "Epoch 5. Mean loss: 0.056. Validation loss: 0.094. Validation accuracy: 97.56%\n",
      "Epoch 6. Mean loss: 0.047. Validation loss: 0.086. Validation accuracy: 97.50%\n",
      "Epoch 7. Mean loss: 0.038. Validation loss: 0.081. Validation accuracy: 97.62%\n",
      "Epoch 8. Mean loss: 0.031. Validation loss: 0.079. Validation accuracy: 97.76%\n",
      "Epoch 9. Mean loss: 0.024. Validation loss: 0.089. Validation accuracy: 97.54%\n",
      "end of training\n"
     ]
    }
   ],
   "source": [
    "input_size=784\n",
    "output_size=10\n",
    "hidden_layer_size=100\n",
    "\n",
    "#removes all previous stored graphs or data\n",
    "tf.reset_default_graph()\n",
    "\n",
    "inputs=tf.placeholder(tf.float32,[None,input_size])\n",
    "targets=tf.placeholder(tf.float32,[None,output_size])\n",
    "\n",
    "#for layer 1\n",
    "weights_1=tf.get_variable('weights_1',[input_size,hidden_layer_size])\n",
    "biases_1=tf.get_variable('biases_1',[hidden_layer_size])\n",
    "\n",
    "outputs_1=tf.nn.relu(tf.matmul(inputs,weights_1)+biases_1) #layer one activation function relu\n",
    "\n",
    "#for layer 2\n",
    "weights_2=tf.get_variable('weights_2',[hidden_layer_size,hidden_layer_size])\n",
    "biases_2=tf.get_variable('biases_2',[hidden_layer_size])\n",
    "\n",
    "outputs_2=tf.nn.relu(tf.matmul(outputs_1,weights_2)+biases_2) #layer two activation function relu\n",
    "\n",
    "#final layer \n",
    "weights_3=tf.get_variable('weights_3',[hidden_layer_size,output_size])\n",
    "biases_3=tf.get_variable('biases_3',[output_size])\n",
    "\n",
    "outputs=tf.matmul(outputs_2,weights_3)+biases_3 #output without activation function\n",
    "\n",
    "\n",
    "#1st logit function then softmax then cross_entropy loss calculation\n",
    "#numaricaly stable function when we deals with very small nnumbers\n",
    "cross_entropy_loss=tf.nn.softmax_cross_entropy_with_logits(logits=outputs,labels=targets) #returns list of losses\n",
    "mean_loss=tf.reduce_mean(cross_entropy_loss) #<<<<<<<<<<\n",
    "\n",
    "#optimization method  Adam\n",
    "optimizer=tf.train.AdamOptimizer(learning_rate=0.001).minimize(mean_loss)#back_prob also performed here #<<<<<<<<<\n",
    "\n",
    "#prediction accuracy\n",
    "#equal returns 1 or 0 when values matched or not matched respectively\n",
    "#output_equals_target is a vactor of 0's (missmatch) and 1's (match) \n",
    "#argmax returs the index(r,c) of the maximum value for each target and output list, we need only the column number \n",
    "output_equals_target=tf.equal(tf.arg_max(outputs,1),tf.arg_max(targets,1))#argmax retruns row &col num here 1 means only cloumn\n",
    "accuracy=tf.reduce_mean(tf.cast(output_equals_target,tf.float32)) #<<<<< #cast->[0,1,1]=>[0.0,1.0,1.0]\n",
    "\n",
    "#creating sessions\n",
    "sess=tf.InteractiveSession()\n",
    "\n",
    "#initialize all variables \n",
    "initializer=tf.global_variables_initializer() #<<<<<<<\n",
    "sess.run(initializer)\n",
    "\n",
    "#batching total 100 batches required\n",
    "batch_size=100 #batches of max 100 entries\n",
    "number_of_batches=mnist.train._num_examples // batch_size # // returns int in cealing format\n",
    "\n",
    "max_epochs=15\n",
    "\n",
    "previous_validation_loss=9999999. #. makes an int to float \n",
    "\n",
    "for epoch_counter in range(max_epochs):\n",
    "    current_epoch_loss=0. #trainig loss \n",
    "    total_batch_loss=0.\n",
    "    \n",
    "    for batch_counter in range(number_of_batches):\n",
    "        batch_inputs,batch_targets=mnist.train.next_batch(batch_size) #inputs and target for each batch\n",
    "        #getting minimized batch loss with backpropagation\n",
    "        _,current_batch_loss=sess.run([optimizer,mean_loss],feed_dict={inputs:batch_inputs,targets:batch_targets}) \n",
    "        total_batch_loss += current_batch_loss\n",
    "    current_epoch_loss = total_batch_loss/number_of_batches\n",
    "    \n",
    "    #validation after each epoch\n",
    "    validation_inputs,validation_targets=mnist.validation.next_batch(mnist.validation._num_examples)\n",
    "    validation_loss,validation_accuracy=sess.run([mean_loss,accuracy],feed_dict={inputs:validation_inputs,targets:validation_targets})\n",
    "    \n",
    "    print('Epoch '+str(epoch_counter+1)+\n",
    "          '. Mean loss: '+'{0:.3f}'.format(current_epoch_loss)+\n",
    "          '. Validation loss: '+'{0:.3f}'.format(validation_loss)+\n",
    "          '. Validation accuracy: '+'{0:.2f}'.format(validation_accuracy * 100.)+'%')\n",
    "    if validation_loss>previous_validation_loss:\n",
    "        break\n",
    "    previous_validation_loss=validation_loss\n",
    "print('end of training')"
   ]
  },
  {
   "cell_type": "markdown",
   "metadata": {},
   "source": [
    "# Test Score"
   ]
  },
  {
   "cell_type": "code",
   "execution_count": 17,
   "metadata": {},
   "outputs": [
    {
     "name": "stdout",
     "output_type": "stream",
     "text": [
      "Test accuracy: 97.47% . Mean loss: 0.084\n"
     ]
    }
   ],
   "source": [
    "test_inputs, test_targets = mnist.test.next_batch(mnist.test._num_examples)\n",
    "test_loss,test_accuracy=sess.run([mean_loss,accuracy],feed_dict={inputs:test_inputs,targets:test_targets})\n",
    "\n",
    "test_accuracy_percent = test_accuracy * 100.\n",
    "\n",
    "# Print the test accuracy formatted in percentages\n",
    "print('Test accuracy: '+'{0:.2f}'.format(test_accuracy_percent)+'%'+' . Mean loss: '+'{0:.3f}'.format(test_loss))"
   ]
  },
  {
   "cell_type": "code",
   "execution_count": null,
   "metadata": {},
   "outputs": [],
   "source": []
  }
 ],
 "metadata": {
  "kernelspec": {
   "display_name": "Python 3",
   "language": "python",
   "name": "python3"
  },
  "language_info": {
   "codemirror_mode": {
    "name": "ipython",
    "version": 3
   },
   "file_extension": ".py",
   "mimetype": "text/x-python",
   "name": "python",
   "nbconvert_exporter": "python",
   "pygments_lexer": "ipython3",
   "version": "3.7.3"
  }
 },
 "nbformat": 4,
 "nbformat_minor": 2
}
