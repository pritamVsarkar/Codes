{
 "cells": [
  {
   "cell_type": "markdown",
   "metadata": {},
   "source": [
    "# Importing all required libraries"
   ]
  },
  {
   "cell_type": "code",
   "execution_count": 1,
   "metadata": {},
   "outputs": [],
   "source": [
    "%matplotlib inline\n",
    "import numpy as np\n",
    "import matplotlib.pyplot as plt\n",
    "import tensorflow as tf\n",
    "from tensorflow import keras\n",
    "from tensorflow.keras.datasets import mnist\n",
    "from tensorflow.keras.models import Sequential\n",
    "from tensorflow.keras.layers import Dense,Dropout\n",
    "from tensorflow.keras.optimizers import Adam"
   ]
  },
  {
   "cell_type": "markdown",
   "metadata": {},
   "source": [
    "# Reseting all previous graphs or data"
   ]
  },
  {
   "cell_type": "code",
   "execution_count": 2,
   "metadata": {},
   "outputs": [],
   "source": [
    "tf.reset_default_graph()"
   ]
  },
  {
   "cell_type": "markdown",
   "metadata": {},
   "source": [
    "# Loading the data"
   ]
  },
  {
   "cell_type": "code",
   "execution_count": 3,
   "metadata": {},
   "outputs": [],
   "source": [
    "(mnist_train_inputs,mnist_train_targets),(mnist_test_inputs,mnist_test_targets)=mnist.load_data()"
   ]
  },
  {
   "cell_type": "markdown",
   "metadata": {},
   "source": [
    "# Showing the image against it's image number (0-59999) training range (0-9999) testing range"
   ]
  },
  {
   "cell_type": "code",
   "execution_count": 4,
   "metadata": {},
   "outputs": [
    {
     "name": "stdout",
     "output_type": "stream",
     "text": [
      "3\n"
     ]
    },
    {
     "data": {
      "text/plain": [
       "<matplotlib.image.AxesImage at 0x2165d4ec2b0>"
      ]
     },
     "execution_count": 4,
     "metadata": {},
     "output_type": "execute_result"
    },
    {
     "data": {
      "image/png": "[encoded data removed]",
      "text/plain": [
       "<Figure size 432x288 with 1 Axes>"
      ]
     },
     "metadata": {
      "needs_background": "light"
     },
     "output_type": "display_data"
    }
   ],
   "source": [
    "print(mnist_train_targets[1234]) #60000 number of 0-9 all type dimension (60000,)\n",
    "plt.imshow(mnist_train_inputs[1234])"
   ]
  },
  {
   "cell_type": "markdown",
   "metadata": {},
   "source": [
    "# reshaping from (xxxxx,28,28) to (xxxxx,784) xxxxx=60000 or 10000"
   ]
  },
  {
   "cell_type": "code",
   "execution_count": 5,
   "metadata": {},
   "outputs": [],
   "source": [
    "train_inputs=mnist_train_inputs.reshape(mnist_train_inputs.shape[0],mnist_train_inputs.shape[1]*mnist_train_inputs.shape[2])\n",
    "test_inputs=mnist_test_inputs.reshape(mnist_test_inputs.shape[0],mnist_test_inputs.shape[1]*mnist_test_inputs.shape[2])"
   ]
  },
  {
   "cell_type": "markdown",
   "metadata": {},
   "source": [
    "# Converting all data points into float32"
   ]
  },
  {
   "cell_type": "code",
   "execution_count": 6,
   "metadata": {},
   "outputs": [],
   "source": [
    "train_inputs=train_inputs.astype('float32')\n",
    "test_inputs=test_inputs.astype('float32')"
   ]
  },
  {
   "cell_type": "markdown",
   "metadata": {},
   "source": [
    "# Ranging all the datapoints between 0 to 1 by dividing it by 255(max value possible for each data places)"
   ]
  },
  {
   "cell_type": "code",
   "execution_count": 7,
   "metadata": {},
   "outputs": [],
   "source": [
    "train_inputs /= 255\n",
    "test_inputs /=255"
   ]
  },
  {
   "cell_type": "markdown",
   "metadata": {},
   "source": [
    "# One-Hot encoding to the targets of all datasets"
   ]
  },
  {
   "cell_type": "code",
   "execution_count": 8,
   "metadata": {},
   "outputs": [],
   "source": [
    "train_targets=keras.utils.to_categorical(mnist_train_targets,10)\n",
    "test_targets=keras.utils.to_categorical(mnist_test_targets,10)"
   ]
  },
  {
   "cell_type": "markdown",
   "metadata": {},
   "source": [
    "# Showing the image after One-Hot encoding"
   ]
  },
  {
   "cell_type": "code",
   "execution_count": null,
   "metadata": {},
   "outputs": [
    {
     "name": "stdout",
     "output_type": "stream",
     "text": [
      "[0. 0. 0. 0. 0. 0. 0. 0. 1. 0.]\n"
     ]
    },
    {
     "data": {
      "image/png": "[encoded data removed]",
      "text/plain": [
       "<Figure size 432x288 with 1 Axes>"
      ]
     },
     "metadata": {
      "needs_background": "light"
     },
     "output_type": "display_data"
    }
   ],
   "source": [
    "def display_sample(num):\n",
    "    print(train_targets[num])   #Print the one-hot array of this sample's label \n",
    "    label = np.argmax(train_targets[num]) #Print the maximum number position in One-Hot encoded list\n",
    "    image = train_inputs[num].reshape([28,28])  #Reshape the 768 1d values to a 28x28 image for showing\n",
    "    plt.title('Sample: %d  Label: %d' % (num, label))\n",
    "    plt.imshow(image, cmap=plt.cm.binary) #in black and white format\n",
    "    plt.show()\n",
    "    \n",
    "display_sample(1254)"
   ]
  },
  {
   "cell_type": "markdown",
   "metadata": {},
   "source": [
    "# Creating our model architecture neurone_number=(2^8)*2=256*2"
   ]
  },
  {
   "cell_type": "code",
   "execution_count": null,
   "metadata": {},
   "outputs": [
    {
     "name": "stdout",
     "output_type": "stream",
     "text": [
      "WARNING:tensorflow:From C:\\Users\\Pritam\\Anaconda3\\lib\\site-packages\\tensorflow\\python\\ops\\resource_variable_ops.py:435: colocate_with (from tensorflow.python.framework.ops) is deprecated and will be removed in a future version.\n",
      "Instructions for updating:\n",
      "Colocations handled automatically by placer.\n",
      "WARNING:tensorflow:From C:\\Users\\Pritam\\Anaconda3\\lib\\site-packages\\tensorflow\\python\\keras\\layers\\core.py:143: calling dropout (from tensorflow.python.ops.nn_ops) with keep_prob is deprecated and will be removed in a future version.\n",
      "Instructions for updating:\n",
      "Please use `rate` instead of `keep_prob`. Rate should be set to `rate = 1 - keep_prob`.\n"
     ]
    }
   ],
   "source": [
    "model = Sequential() \n",
    "model.add(Dense(512, activation='relu', input_shape=(784,))) #input layer densely connected\n",
    "#model.add(Dropout(0.2)) # 1st hidden layer dropping 20% neorones with same config\n",
    "model.add(Dense(512, activation='relu')) #1st hidden layer\n",
    "model.add(Dense(512, activation='relu')) #2nd hidden layer\n",
    "model.add(Dropout(0.2)) #3rd hidden layer dropping 20% neorones with same config\n",
    "model.add(Dense(10, activation='softmax')) #output layer"
   ]
  },
  {
   "cell_type": "markdown",
   "metadata": {},
   "source": [
    "# Adding loss function optimizer and score matrices in our model"
   ]
  },
  {
   "cell_type": "code",
   "execution_count": null,
   "metadata": {},
   "outputs": [],
   "source": [
    "model.compile(loss='categorical_crossentropy',optimizer=Adam(),metrics=['accuracy'])"
   ]
  },
  {
   "cell_type": "markdown",
   "metadata": {},
   "source": [
    "# Training the model with batch_size=100 epochs=10 verbos=2(good for ipython notebook) test dataset as validation data"
   ]
  },
  {
   "cell_type": "code",
   "execution_count": null,
   "metadata": {},
   "outputs": [
    {
     "name": "stdout",
     "output_type": "stream",
     "text": [
      "Train on 60000 samples, validate on 10000 samples\n",
      "WARNING:tensorflow:From C:\\Users\\Pritam\\Anaconda3\\lib\\site-packages\\tensorflow\\python\\ops\\math_ops.py:3066: to_int32 (from tensorflow.python.ops.math_ops) is deprecated and will be removed in a future version.\n",
      "Instructions for updating:\n",
      "Use tf.cast instead.\n",
      "Epoch 1/10\n",
      " - 23s - loss: 0.2067 - acc: 0.9383 - val_loss: 0.0996 - val_acc: 0.9672\n",
      "Epoch 2/10\n",
      " - 21s - loss: 0.0859 - acc: 0.9732 - val_loss: 0.0887 - val_acc: 0.9713\n",
      "Epoch 3/10\n",
      " - 21s - loss: 0.0579 - acc: 0.9822 - val_loss: 0.0768 - val_acc: 0.9766\n",
      "Epoch 4/10\n",
      " - 21s - loss: 0.0448 - acc: 0.9858 - val_loss: 0.0735 - val_acc: 0.9769\n",
      "Epoch 5/10\n",
      " - 21s - loss: 0.0346 - acc: 0.9891 - val_loss: 0.0825 - val_acc: 0.9782\n",
      "Epoch 6/10\n",
      " - 21s - loss: 0.0322 - acc: 0.9893 - val_loss: 0.0880 - val_acc: 0.9777\n",
      "Epoch 7/10\n",
      " - 22s - loss: 0.0254 - acc: 0.9919 - val_loss: 0.0670 - val_acc: 0.9808\n",
      "Epoch 8/10\n",
      " - 21s - loss: 0.0223 - acc: 0.9934 - val_loss: 0.0895 - val_acc: 0.9779\n",
      "Epoch 9/10\n",
      " - 21s - loss: 0.0201 - acc: 0.9934 - val_loss: 0.0901 - val_acc: 0.9780\n",
      "Epoch 10/10\n"
     ]
    }
   ],
   "source": [
    "model.fit(train_inputs,train_targets,batch_size=100,epochs=10,verbose=2,validation_data=(test_inputs,test_targets))"
   ]
  },
  {
   "cell_type": "markdown",
   "metadata": {},
   "source": [
    "# Measuring test accuracy measures"
   ]
  },
  {
   "cell_type": "code",
   "execution_count": null,
   "metadata": {},
   "outputs": [],
   "source": [
    "score = model.evaluate(test_inputs, test_targets, verbose=0)\n",
    "print('Test loss:', score[0])\n",
    "print('Test accuracy:', score[1])"
   ]
  },
  {
   "cell_type": "markdown",
   "metadata": {},
   "source": [
    "# Number of missing value count"
   ]
  },
  {
   "cell_type": "code",
   "execution_count": null,
   "metadata": {},
   "outputs": [],
   "source": [
    "num_of_missing_value=((100-(score[1]*100))/100) * test_inputs.shape[0]\n",
    "num_of_missing_value = num_of_missing_value.astype('int')\n",
    "print('missing values in 10000 samples = '+str(num_of_missing_value))"
   ]
  },
  {
   "cell_type": "markdown",
   "metadata": {},
   "source": [
    "# Saving the model"
   ]
  },
  {
   "cell_type": "code",
   "execution_count": null,
   "metadata": {},
   "outputs": [],
   "source": [
    "model.save('mnist_the_number_reader.model')"
   ]
  },
  {
   "cell_type": "markdown",
   "metadata": {},
   "source": [
    "# Loading the model"
   ]
  },
  {
   "cell_type": "code",
   "execution_count": null,
   "metadata": {},
   "outputs": [],
   "source": [
    "model=keras.models.load_model('mnist_the_number_reader.model')"
   ]
  },
  {
   "cell_type": "markdown",
   "metadata": {},
   "source": [
    "# Scanning an image using its sequence number and predcting it"
   ]
  },
  {
   "cell_type": "code",
   "execution_count": null,
   "metadata": {},
   "outputs": [],
   "source": [
    "def predict_value(num):\n",
    "    num %=test_inputs.shape[0]\n",
    "    predictions=model.predict([[test_inputs[num,:]]]) #a list of 10 elements\n",
    "    print('%d th image '%(num))\n",
    "    print('Predicted : '+str(np.argmax(predictions)))\n",
    "    plt.imshow(mnist_test_inputs[num])\n",
    "    plt.show()"
   ]
  },
  {
   "cell_type": "code",
   "execution_count": null,
   "metadata": {},
   "outputs": [],
   "source": [
    "predict_value(9)"
   ]
  },
  {
   "cell_type": "code",
   "execution_count": null,
   "metadata": {},
   "outputs": [],
   "source": []
  },
  {
   "cell_type": "code",
   "execution_count": null,
   "metadata": {},
   "outputs": [],
   "source": []
  },
  {
   "cell_type": "code",
   "execution_count": null,
   "metadata": {},
   "outputs": [],
   "source": []
  },
  {
   "cell_type": "code",
   "execution_count": null,
   "metadata": {},
   "outputs": [],
   "source": []
  },
  {
   "cell_type": "code",
   "execution_count": null,
   "metadata": {},
   "outputs": [],
   "source": []
  }
 ],
 "metadata": {
  "kernelspec": {
   "display_name": "Python 3",
   "language": "python",
   "name": "python3"
  },
  "language_info": {
   "codemirror_mode": {
    "name": "ipython",
    "version": 3
   },
   "file_extension": ".py",
   "mimetype": "text/x-python",
   "name": "python",
   "nbconvert_exporter": "python",
   "pygments_lexer": "ipython3",
   "version": "3.7.3"
  }
 },
 "nbformat": 4,
 "nbformat_minor": 2
}
